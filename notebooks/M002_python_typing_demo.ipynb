{
 "cells": [
  {
   "cell_type": "markdown",
   "id": "bbd1d4be",
   "metadata": {
    "id": "bbd1d4be"
   },
   "source": [
    "# Tipado en Python: fuerte **y** dinámico\n"
   ]
  },
  {
   "cell_type": "markdown",
   "id": "145ccaba",
   "metadata": {
    "id": "145ccaba"
   },
   "source": [
    "\n",
    "En esta libreta demostramos empíricamente que:\n",
    "\n",
    "* **Tipado fuerte** → Python no realiza coerciones automáticas entre tipos incompatibles.\n",
    "* **Tipado dinámico** → Los tipos se determinan y validan en _runtime_; un nombre puede referir objetos de tipos distintos a lo largo de la ejecución.\n"
   ]
  },
  {
   "cell_type": "markdown",
   "id": "444822cb",
   "metadata": {
    "id": "444822cb"
   },
   "source": [
    "## 1 · Ejemplos de tipado fuerte"
   ]
  },
  {
   "cell_type": "code",
   "execution_count": 1,
   "id": "e445b79e",
   "metadata": {
    "id": "e445b79e"
   },
   "outputs": [
    {
     "name": "stdout",
     "output_type": "stream",
     "text": [
      "TypeError: unsupported operand type(s) for +: 'int' and 'str'\n",
      "TypeError: object of type 'int' has no len()\n",
      "TypeError: can only concatenate list (not \"str\") to list\n"
     ]
    }
   ],
   "source": [
    "\n",
    "# Sumar int + str provoca error\n",
    "try:\n",
    "    1 + '2'\n",
    "except TypeError as e:\n",
    "    print('TypeError:', e)\n",
    "\n",
    "# len() sobre un entero\n",
    "try:\n",
    "    len(42)\n",
    "except TypeError as e:\n",
    "    print('TypeError:', e)\n",
    "\n",
    "# Concatenar lista con cadena\n",
    "try:\n",
    "    [1, 2] + '34'\n",
    "except TypeError as e:\n",
    "    print('TypeError:', e)\n"
   ]
  },
  {
   "cell_type": "code",
   "execution_count": 2,
   "id": "c7e1d67e",
   "metadata": {},
   "outputs": [
    {
     "ename": "TypeError",
     "evalue": "unsupported operand type(s) for +: 'int' and 'str'",
     "output_type": "error",
     "traceback": [
      "\u001b[31m---------------------------------------------------------------------------\u001b[39m",
      "\u001b[31mTypeError\u001b[39m                                 Traceback (most recent call last)",
      "\u001b[36mCell\u001b[39m\u001b[36m \u001b[39m\u001b[32mIn[2]\u001b[39m\u001b[32m, line 1\u001b[39m\n\u001b[32m----> \u001b[39m\u001b[32m1\u001b[39m \u001b[32;43m1\u001b[39;49m\u001b[43m \u001b[49m\u001b[43m+\u001b[49m\u001b[43m \u001b[49m\u001b[33;43m'\u001b[39;49m\u001b[33;43m2\u001b[39;49m\u001b[33;43m'\u001b[39;49m\n",
      "\u001b[31mTypeError\u001b[39m: unsupported operand type(s) for +: 'int' and 'str'"
     ]
    }
   ],
   "source": [
    "1 + '2'"
   ]
  },
  {
   "cell_type": "code",
   "execution_count": null,
   "id": "039fc56c",
   "metadata": {},
   "outputs": [],
   "source": [
    "def suma(a:int, b:int) -> int:\n",
    "    return a + b"
   ]
  },
  {
   "cell_type": "code",
   "execution_count": null,
   "id": "00df91e4",
   "metadata": {},
   "outputs": [],
   "source": [
    "suma('a',3)"
   ]
  },
  {
   "cell_type": "code",
   "execution_count": 10,
   "id": "b73c7d6f",
   "metadata": {},
   "outputs": [
    {
     "ename": "TypeError",
     "evalue": "can only concatenate str (not \"int\") to str",
     "output_type": "error",
     "traceback": [
      "\u001b[31m---------------------------------------------------------------------------\u001b[39m",
      "\u001b[31mTypeError\u001b[39m                                 Traceback (most recent call last)",
      "\u001b[36mCell\u001b[39m\u001b[36m \u001b[39m\u001b[32mIn[10]\u001b[39m\u001b[32m, line 1\u001b[39m\n\u001b[32m----> \u001b[39m\u001b[32m1\u001b[39m \u001b[43msuma\u001b[49m\u001b[43m(\u001b[49m\u001b[33;43m'\u001b[39;49m\u001b[33;43ma\u001b[39;49m\u001b[33;43m'\u001b[39;49m\u001b[43m,\u001b[49m\u001b[32;43m3\u001b[39;49m\u001b[43m)\u001b[49m\n",
      "\u001b[36mCell\u001b[39m\u001b[36m \u001b[39m\u001b[32mIn[8]\u001b[39m\u001b[32m, line 2\u001b[39m, in \u001b[36msuma\u001b[39m\u001b[34m(a, b)\u001b[39m\n\u001b[32m      1\u001b[39m \u001b[38;5;28;01mdef\u001b[39;00m\u001b[38;5;250m \u001b[39m\u001b[34msuma\u001b[39m(a, b):\n\u001b[32m----> \u001b[39m\u001b[32m2\u001b[39m     \u001b[38;5;28;01mreturn\u001b[39;00m \u001b[43ma\u001b[49m\u001b[43m \u001b[49m\u001b[43m+\u001b[49m\u001b[43m \u001b[49m\u001b[43mb\u001b[49m\n",
      "\u001b[31mTypeError\u001b[39m: can only concatenate str (not \"int\") to str"
     ]
    }
   ],
   "source": [
    "suma('a',3)"
   ]
  },
  {
   "cell_type": "markdown",
   "id": "451caf0b",
   "metadata": {
    "id": "451caf0b"
   },
   "source": [
    "## 2 · Ejemplos de tipado dinámico"
   ]
  },
  {
   "cell_type": "code",
   "execution_count": null,
   "id": "52650d0f",
   "metadata": {
    "id": "52650d0f"
   },
   "outputs": [],
   "source": [
    "\n",
    "x = 42\n",
    "print('x =', x, '→', type(x))\n",
    "\n",
    "x = 'cambio a str'\n",
    "print('x =', x, '→', type(x))\n",
    "\n",
    "def dynamic_demo(val):\n",
    "    print(f'{val!r} es de tipo {type(val).__name__}')\n",
    "\n",
    "for v in (3.14, [1,2,3], {'k': 1}):\n",
    "    dynamic_demo(v)\n"
   ]
  },
  {
   "cell_type": "markdown",
   "id": "e2922d8a",
   "metadata": {
    "id": "e2922d8a"
   },
   "source": [
    "## 3 · Tipado con anotaciones"
   ]
  },
  {
   "cell_type": "code",
   "execution_count": 1,
   "id": "a908e9a5",
   "metadata": {
    "id": "a908e9a5"
   },
   "outputs": [
    {
     "name": "stdout",
     "output_type": "stream",
     "text": [
      "3 + 4 = 7\n",
      "Anotaciones de suma: {'a': <class 'int'>, 'b': <class 'int'>, 'return': <class 'int'>}\n"
     ]
    }
   ],
   "source": [
    "\n",
    "from typing import List\n",
    "\n",
    "def suma(a: int, b: int) -> int:\n",
    "    return a + b\n",
    "\n",
    "print('3 + 4 =', suma(3, 4))\n",
    "print('Anotaciones de suma:', suma.__annotations__)\n"
   ]
  },
  {
   "cell_type": "markdown",
   "id": "5a44337e",
   "metadata": {
    "id": "5a44337e"
   },
   "source": [
    "\n",
    "> 🔎 **mypy**, Pyright o Ruff pueden analizar estas anotaciones para detectar errores de tipo *antes* de ejecutar el script.\n"
   ]
  },
  {
   "cell_type": "markdown",
   "id": "c1e20e09",
   "metadata": {
    "id": "c1e20e09"
   },
   "source": [
    "## 4 · Tabla comparativa (fuerza vs. momento)"
   ]
  },
  {
   "cell_type": "markdown",
   "id": "6d49bfb5",
   "metadata": {
    "id": "6d49bfb5"
   },
   "source": [
    "\n",
    "| Lenguaje   | Fuerza   | Momento (chequeo) | `1 + '1'` produce |\n",
    "|------------|----------|-------------------|-------------------|\n",
    "| Python     | Fuerte   | Dinámico          | **TypeError**     |\n",
    "| JavaScript | Débil    | Dinámico          | `'11'` (coerción) |\n",
    "| C          | Fuerte   | Estático          | Error de compilación |\n",
    "| C# / Go    | Fuerte   | Estático          | Error de compilación |\n"
   ]
  }
 ],
 "metadata": {
  "colab": {
   "provenance": []
  },
  "kernelspec": {
   "display_name": ".venv",
   "language": "python",
   "name": "python3"
  },
  "language_info": {
   "codemirror_mode": {
    "name": "ipython",
    "version": 3
   },
   "file_extension": ".py",
   "mimetype": "text/x-python",
   "name": "python",
   "nbconvert_exporter": "python",
   "pygments_lexer": "ipython3",
   "version": "3.13.5"
  }
 },
 "nbformat": 4,
 "nbformat_minor": 5
}
